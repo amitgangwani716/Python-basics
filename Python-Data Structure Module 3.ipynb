{
 "cells": [
  {
   "cell_type": "markdown",
   "id": "20a5c1b9-8e49-423e-a24d-ef74590d4d5b",
   "metadata": {},
   "source": [
    "# Data Types and Structures Questions & Answers"
   ]
  },
  {
   "cell_type": "markdown",
   "id": "287726f7-4497-423f-8a31-50ea4e69e906",
   "metadata": {},
   "source": [
    "Q1: What are data structures, and why are they important?"
   ]
  },
  {
   "cell_type": "markdown",
   "id": "2d2d90ec-e4ae-4e52-92c2-55327c882506",
   "metadata": {},
   "source": [
    "#Ans1 :\n",
    "\n",
    "Data structures are \"Strings\", \"lists\", \"Tuple\", \"Sets\" and \"Dictionary\" and they are very important to write a code and designated the values to store the data and values of the data."
   ]
  },
  {
   "cell_type": "markdown",
   "id": "8a116eb8-7b8b-43d7-a538-cab52b24e9ad",
   "metadata": {},
   "source": [
    "Q2: Explain the difference between mutable and immutable data types with examples?"
   ]
  },
  {
   "cell_type": "code",
   "execution_count": 18,
   "id": "41ccb9be-dfd4-46f8-9dfe-bed85e4c1ade",
   "metadata": {},
   "outputs": [],
   "source": [
    "#Ans2:\n",
    "#Mutable data types :\n",
    "A= [1,2,3,4,5,]\n",
    "\n",
    "#Immutable data types:\n",
    "B=(1,2,3,4,5)"
   ]
  },
  {
   "cell_type": "markdown",
   "id": "0ee83ec9-396b-48ea-a14b-8145c656c553",
   "metadata": {},
   "source": [
    "Q3. What are the main differences between lists and tuples in Python?"
   ]
  },
  {
   "cell_type": "markdown",
   "id": "3391ee25-dbe6-4967-a0ad-d0df7cc1cd67",
   "metadata": {},
   "source": [
    "#Ans3:\n",
    "\n",
    "The main difference are list is mutable the data can be store in list under the [] however, the Tuple are immutable and the data can be store under the ()."
   ]
  },
  {
   "cell_type": "markdown",
   "id": "7f615b31-7a6c-473f-bd28-9312cf727ea0",
   "metadata": {},
   "source": [
    "Q4. Describe how dictionaries store data"
   ]
  },
  {
   "cell_type": "code",
   "execution_count": 28,
   "id": "b5f0e43e-9036-4189-88a3-32440a2fbf62",
   "metadata": {},
   "outputs": [],
   "source": [
    "#Ans3:\n",
    "#The dictionaries store data under the {} and in the format of : using key and values, please see example below.\n",
    "School = {\"Name\":\"Amit Gangwani\",\"Roll Number\":\"12345\",\"Subject\":\"English\"}"
   ]
  },
  {
   "cell_type": "markdown",
   "id": "db56aada-f2e2-416f-8030-73c2e2fb98ac",
   "metadata": {},
   "source": [
    "Q5. Why might you use a set instead of a list in Python?"
   ]
  },
  {
   "cell_type": "markdown",
   "id": "9b8f6345-e85b-4983-9f53-6a1f7297c1fe",
   "metadata": {},
   "source": [
    "Ans5: \n",
    "\n",
    "Set is a data type in python used to store several items in a single variable. It is one of the four built-in data types (List, Dictionary, Tuple, and Set) having qualities and usage different from the other three. It is a collection that is written with curly brackets and is both unindexed and unordered."
   ]
  },
  {
   "cell_type": "markdown",
   "id": "9628cd4b-baf3-484e-b296-c70f650b0067",
   "metadata": {},
   "source": [
    "Q6. What is a string in Python, and how is it different from a list?"
   ]
  },
  {
   "cell_type": "markdown",
   "id": "ffad3feb-a5de-4a75-89d9-cf6dcbb866fd",
   "metadata": {},
   "source": [
    "Ans6. \n",
    "\n",
    "Strings are immutable, meaning their values cannot be changed once they are created. While both lists and strings can be accessed using indexing and slicing, lists provide more flexibility as they can be modified, appended, or extended, while strings cannot be altered after creation"
   ]
  },
  {
   "cell_type": "markdown",
   "id": "675a2b0c-08c8-4a09-9419-aeb1e4c06dd9",
   "metadata": {},
   "source": [
    "Q7. How do tuples ensure data integrity in Python?"
   ]
  },
  {
   "cell_type": "markdown",
   "id": "5f56ed4e-d9bc-40c7-9f1b-5b00bd36214d",
   "metadata": {},
   "source": [
    "Ans7:\n",
    "\n",
    "Tuples are immutable and their data gets constent which ensure data integrity in python."
   ]
  },
  {
   "cell_type": "markdown",
   "id": "7631373a-5a9c-431d-afb4-460bb7724ee1",
   "metadata": {},
   "source": [
    "Q8. What is a hash table, and how does it relate to dictionaries in Python?"
   ]
  },
  {
   "cell_type": "markdown",
   "id": "16b5c8dc-9acf-45f9-b041-1473b01324f5",
   "metadata": {},
   "source": [
    "Ans8:\n",
    "\n",
    "In Python, a hash table is a data structure that stores key-value pairs, and dictionaries are built using hash tables"
   ]
  },
  {
   "cell_type": "markdown",
   "id": "0487422c-1377-4542-8531-0a4f8fb0370d",
   "metadata": {},
   "source": [
    "Q9. Can lists contain different data types in Python?"
   ]
  },
  {
   "cell_type": "markdown",
   "id": "e2a1b777-9b2a-43e1-9e99-fc5f831b7d23",
   "metadata": {},
   "source": [
    "Ans9. Yes."
   ]
  },
  {
   "cell_type": "markdown",
   "id": "145d57e2-b767-4cd7-8988-1db85b9437fb",
   "metadata": {},
   "source": [
    "Q10. Explain why strings are immutable in Python?"
   ]
  },
  {
   "cell_type": "markdown",
   "id": "f8b3cdda-13dc-4a2a-babd-1e475bee11fc",
   "metadata": {},
   "source": [
    "Ans10.\n",
    "\n",
    "String is a sequence of character, e.g, \"Amit\" so the python store the \"Amit\" as 0=A, 1=m, 2=i, 3=t and due to this we cant replace or change the character of \"Amit\" however this is the reason a strings are immutable in python."
   ]
  },
  {
   "cell_type": "markdown",
   "id": "5eecaef4-4eb9-4935-af53-452fbe4a0ffd",
   "metadata": {},
   "source": [
    "Q11. What advantages do dictionaries offer over lists for certain tasks?"
   ]
  },
  {
   "cell_type": "markdown",
   "id": "2fdc9b49-2a01-4ae7-ae92-3e74adda53bd",
   "metadata": {},
   "source": [
    "Ans11.\n",
    "\n",
    "You can create a dictionary using the dict() function. \n",
    "You can remove items from a dictionary using the del, pop(), clear()"
   ]
  },
  {
   "cell_type": "markdown",
   "id": "54b747b0-dee1-4063-88b6-d9e822b206aa",
   "metadata": {},
   "source": [
    "Q12. Describe a scenario where using a tuple would be preferable over a list?"
   ]
  },
  {
   "cell_type": "code",
   "execution_count": 97,
   "id": "683d8ac0-8ae0-435d-b66b-68ec63ac6a9d",
   "metadata": {},
   "outputs": [],
   "source": [
    "#Ans12. \n",
    "\n",
    "#Tuple is immutable \n",
    "a=(1,2,4,\"Amit\")\n",
    "\n",
    "#list is mutable\n",
    "b=[6,7,9,\"amit\"]"
   ]
  },
  {
   "cell_type": "code",
   "execution_count": 111,
   "id": "ec0abdd1-0083-4e09-a563-53d877bafcf8",
   "metadata": {},
   "outputs": [
    {
     "ename": "TypeError",
     "evalue": "'tuple' object does not support item assignment",
     "output_type": "error",
     "traceback": [
      "\u001b[1;31m---------------------------------------------------------------------------\u001b[0m",
      "\u001b[1;31mTypeError\u001b[0m                                 Traceback (most recent call last)",
      "Cell \u001b[1;32mIn[111], line 1\u001b[0m\n\u001b[1;32m----> 1\u001b[0m a[\u001b[38;5;241m0\u001b[39m]\u001b[38;5;241m=\u001b[39m\u001b[38;5;241m9\u001b[39m\n",
      "\u001b[1;31mTypeError\u001b[0m: 'tuple' object does not support item assignment"
     ]
    }
   ],
   "source": [
    "a[0]=9"
   ]
  },
  {
   "cell_type": "code",
   "execution_count": 107,
   "id": "d03049b0-34a6-4fc0-8ed8-984471c01d10",
   "metadata": {},
   "outputs": [],
   "source": [
    "b[0]=10"
   ]
  },
  {
   "cell_type": "code",
   "execution_count": 109,
   "id": "c176ba54-6253-48ac-80bc-97094e8646f3",
   "metadata": {},
   "outputs": [
    {
     "data": {
      "text/plain": [
       "[10, 7, 9, 'amit']"
      ]
     },
     "execution_count": 109,
     "metadata": {},
     "output_type": "execute_result"
    }
   ],
   "source": [
    "b"
   ]
  },
  {
   "cell_type": "markdown",
   "id": "f90b4380-af44-4109-90e9-2d238f571014",
   "metadata": {},
   "source": [
    "Q13. How do sets handle duplicate values in Python?"
   ]
  },
  {
   "cell_type": "code",
   "execution_count": 116,
   "id": "1a9176f2-8f38-470d-8574-3686e18b7a51",
   "metadata": {},
   "outputs": [
    {
     "data": {
      "text/plain": [
       "{'blue', 'orange', 'red'}"
      ]
     },
     "execution_count": 116,
     "metadata": {},
     "output_type": "execute_result"
    }
   ],
   "source": [
    "#Ans13. \n",
    "\n",
    "#Sets are unordered collection of unique element so when there is any duplicate data it will count only 1. see example below.\n",
    "\n",
    "E= {\"orange\", \"orange\", \"red\", \"blue\"}\n",
    "E"
   ]
  },
  {
   "cell_type": "markdown",
   "id": "6f6cab14-cc44-4d9e-8e3e-d29f84f6e3ff",
   "metadata": {},
   "source": [
    "Q14.How does the “in” keyword work differently for lists and dictionaries?"
   ]
  },
  {
   "cell_type": "markdown",
   "id": "ff934b27-f720-449d-bb28-6c8504e0cf4d",
   "metadata": {},
   "source": [
    "Ans14. \n",
    "\n",
    "The in operator for dictionaries (dict) checks for the presence of a key.\n",
    "\n",
    "d = {'key1': 'value1', 'key2': 'value2', 'key3': 'value3'}\n",
    "\n",
    "print('key1' in d)\n",
    "#True\n",
    "\n",
    "\n",
    "The in operator in list\n",
    "\n",
    "print(1 in (0, 1, 2))\n",
    "#True\n",
    "\n"
   ]
  },
  {
   "cell_type": "markdown",
   "id": "34819669-773a-4133-a378-dc4ef2f823be",
   "metadata": {},
   "source": [
    "Q15. Can you modify the elements of a tuple? Explain why or why not"
   ]
  },
  {
   "cell_type": "markdown",
   "id": "836c3dd7-ee6f-4530-9181-106e47dca331",
   "metadata": {},
   "source": [
    "Ans15. \n",
    "\n",
    "No we cannot because the tuple is immutable. "
   ]
  },
  {
   "cell_type": "markdown",
   "id": "3aa2b829-d247-4a35-82f8-dc459ec47dd0",
   "metadata": {},
   "source": [
    "Q16. What is a nested dictionary, and give an example of its use case?"
   ]
  },
  {
   "cell_type": "code",
   "execution_count": 146,
   "id": "e80a2509-e3d6-4ecd-aa45-4a8aaf47469e",
   "metadata": {},
   "outputs": [],
   "source": [
    "#Ans16. \n",
    "#A nested dictionary is a dictionary that contains other dictionaries, and is useful for representing data with multiple levels of organization\n",
    "\n",
    "School = {\"Name\":{\"Name1\":\"Amit Gangwani\",\"Roll Number\":\"12345\"},\"Name2\":{\"name2\":\"Sanghmitra\",\"Roll Number\":\"67890\"}}"
   ]
  },
  {
   "cell_type": "code",
   "execution_count": 154,
   "id": "1d1b33d1-b53a-4086-a5b7-61eb8f668b81",
   "metadata": {},
   "outputs": [
    {
     "name": "stdout",
     "output_type": "stream",
     "text": [
      "Sanghmitra\n"
     ]
    }
   ],
   "source": [
    "print(School[\"Name2\"][\"name2\"])"
   ]
  },
  {
   "cell_type": "markdown",
   "id": "cea6fdab-89d9-40f3-8e63-4e8ebe5f082f",
   "metadata": {},
   "source": [
    "Q17. Describe the time complexity of accessing elements in a dictionary "
   ]
  },
  {
   "cell_type": "markdown",
   "id": "6364a6b9-c1ff-4c3d-b9f4-f2aabc68f768",
   "metadata": {},
   "source": [
    "Ans17.\n",
    "\n",
    "It's fast and easy way to work because dictionary store any data and we can easily access those, remove those or modify those data in dictionary.In Python, dictionaries are mutable. "
   ]
  },
  {
   "cell_type": "markdown",
   "id": "78b7261f-c64c-4e90-9e5a-c67a6cc15ab8",
   "metadata": {},
   "source": [
    "Q18. In what situations are lists preferred over dictionaries?"
   ]
  },
  {
   "cell_type": "markdown",
   "id": "826f3a1b-473e-4c34-8c63-6eb2bbae2c39",
   "metadata": {},
   "source": [
    "Ans18. \n",
    "\n",
    "If you need an ordered collection, like a sequence of user actions, lists are your go-to. On the other hand, when you need quick look-ups, like mapping usernames to user data, dictionaries are invaluable."
   ]
  },
  {
   "cell_type": "markdown",
   "id": "76ea4941-e703-4615-be78-c1785b6f2833",
   "metadata": {},
   "source": [
    "Q19.Why are dictionaries considered unordered, and how does that affect data retrieval?"
   ]
  },
  {
   "cell_type": "markdown",
   "id": "21b6ff3e-281e-445e-a0a9-c9b776e2953a",
   "metadata": {},
   "source": [
    "Ans19. \n",
    "\n",
    "Because the data added in dictionaries as mapping or key value pair which cannot be set as ordered."
   ]
  },
  {
   "cell_type": "markdown",
   "id": "32884b5f-9fa1-408f-93b4-f615f27e32f8",
   "metadata": {},
   "source": [
    "Q20. Explain the difference between a list and a dictionary in terms of data retrieval."
   ]
  },
  {
   "cell_type": "markdown",
   "id": "61b7d8f5-a7df-401f-9c2a-c8d3c0e750cc",
   "metadata": {},
   "source": [
    "Ans20. \n",
    "\n",
    "In list we stored data in ordered value and like a bag in which we designate everything into the ordered example. Bag=(\"Apple\", \"Mango\", \"Tree\", \"Amit\"), in this every item has been set into the ordered like 0,1,2,3,4........\n",
    "\n",
    "However, In Dictionary we need to assigned every value with the key like an exampl; School= (\"Name\":\"Amit\", \"Roll Number\":\"2345\"), in this we cannot assigned these into the ordered number because every value has key assigned."
   ]
  },
  {
   "cell_type": "markdown",
   "id": "2d2744e6-8134-42dc-860b-50743c10c19d",
   "metadata": {},
   "source": [
    "# Practical Questions"
   ]
  },
  {
   "cell_type": "markdown",
   "id": "391fb553-e8bd-45da-a2bd-2b133be39417",
   "metadata": {},
   "source": [
    "Q1. Write a code to create a string with your name and print it?"
   ]
  },
  {
   "cell_type": "code",
   "execution_count": 17,
   "id": "63fa9846-3bb1-44cf-a2fc-301b6495a386",
   "metadata": {},
   "outputs": [
    {
     "name": "stdout",
     "output_type": "stream",
     "text": [
      "Amit\n"
     ]
    }
   ],
   "source": [
    "#Ans1\n",
    "\n",
    "Name= \"Amit\"\n",
    "print(Name)"
   ]
  },
  {
   "cell_type": "markdown",
   "id": "9aaa08b2-af7d-41d1-97ac-cc3e85d1e892",
   "metadata": {},
   "source": [
    "Q2. Write a code to find the length of the string \"Hello World\"?"
   ]
  },
  {
   "cell_type": "code",
   "execution_count": 20,
   "id": "a7ca8fd3-5c57-49c4-bd1d-81b5e8c1ac57",
   "metadata": {},
   "outputs": [
    {
     "data": {
      "text/plain": [
       "11"
      ]
     },
     "execution_count": 20,
     "metadata": {},
     "output_type": "execute_result"
    }
   ],
   "source": [
    "#Ans2\n",
    "\n",
    "string=\"Hello World\"\n",
    "len(string)"
   ]
  },
  {
   "cell_type": "markdown",
   "id": "a678704d-db11-4c68-a023-52657b525dc1",
   "metadata": {},
   "source": [
    "Q3. Write a code to slice the first 3 characters from the string \"Python Programming\"?"
   ]
  },
  {
   "cell_type": "code",
   "execution_count": 38,
   "id": "a4d2c075-c94d-4953-83ee-32dfdc3b990d",
   "metadata": {},
   "outputs": [
    {
     "data": {
      "text/plain": [
       "'Pyt'"
      ]
     },
     "execution_count": 38,
     "metadata": {},
     "output_type": "execute_result"
    }
   ],
   "source": [
    "#Ans3. \n",
    "\n",
    "A= \"Python Programming\"\n",
    "A[0:3]"
   ]
  },
  {
   "cell_type": "markdown",
   "id": "9fb127b5-a8cb-462e-9d08-8f7187a94902",
   "metadata": {},
   "source": [
    "Q4.Write a code to convert the string \"hello\" to uppercase?"
   ]
  },
  {
   "cell_type": "code",
   "execution_count": 41,
   "id": "7c1611c0-7a4f-4a57-8093-9575fc86d6bf",
   "metadata": {},
   "outputs": [
    {
     "data": {
      "text/plain": [
       "'HELLO'"
      ]
     },
     "execution_count": 41,
     "metadata": {},
     "output_type": "execute_result"
    }
   ],
   "source": [
    "#Ans4. \n",
    "\n",
    "B=\"hello\"\n",
    "B.upper()"
   ]
  },
  {
   "cell_type": "markdown",
   "id": "ec37f563-718b-47f4-aa6b-c2cd3f13d5cb",
   "metadata": {},
   "source": [
    "Q5. Write a code to replace the word \"apple\" with \"orange\" in the string \"I like apple\"."
   ]
  },
  {
   "cell_type": "code",
   "execution_count": 44,
   "id": "65f3e907-5032-4fe3-93c7-aa3d9bd27e8c",
   "metadata": {},
   "outputs": [
    {
     "data": {
      "text/plain": [
       "'I like orange'"
      ]
     },
     "execution_count": 44,
     "metadata": {},
     "output_type": "execute_result"
    }
   ],
   "source": [
    "#Ans5.\n",
    "\n",
    "Amit= \"I like apple\"\n",
    "Amit.replace(\"apple\",\"orange\")"
   ]
  },
  {
   "cell_type": "markdown",
   "id": "1b7384d2-36fe-4ca7-96b1-b3b601fe3fbe",
   "metadata": {},
   "source": [
    "Q6. Write a code to create a list with numbers 1 to 5 and print it?"
   ]
  },
  {
   "cell_type": "code",
   "execution_count": 49,
   "id": "8137d54c-93ef-4365-93b7-e0a210c2af81",
   "metadata": {},
   "outputs": [
    {
     "name": "stdout",
     "output_type": "stream",
     "text": [
      "(1, 2, 3, 4, 5)\n"
     ]
    }
   ],
   "source": [
    "#Ans6. \n",
    "\n",
    "M=(1,2,3,4,5)\n",
    "print(M)"
   ]
  },
  {
   "cell_type": "markdown",
   "id": "146c0108-95b0-440f-894d-9e6e9d098823",
   "metadata": {},
   "source": [
    "Q7. Write a code to append the number 10 to the list [1, 2, 3, 4]"
   ]
  },
  {
   "cell_type": "code",
   "execution_count": 79,
   "id": "67663c3b-80d8-4b44-baea-8acd2cc7f9d4",
   "metadata": {},
   "outputs": [
    {
     "data": {
      "text/plain": [
       "[1, 2, 3, 4, 10]"
      ]
     },
     "execution_count": 79,
     "metadata": {},
     "output_type": "execute_result"
    }
   ],
   "source": [
    "#Ans7.\n",
    "\n",
    "D=[1, 2, 3, 4]\n",
    "D.append(10)\n",
    "D"
   ]
  },
  {
   "cell_type": "markdown",
   "id": "cc1acc37-9faa-4b46-a76f-26bac0b14483",
   "metadata": {},
   "source": [
    "Q8. Write a code to remove the number 3 from the list [1, 2, 3, 4, 5]"
   ]
  },
  {
   "cell_type": "code",
   "execution_count": 77,
   "id": "29932c27-bf5e-4e0e-b889-c8c5c403712a",
   "metadata": {},
   "outputs": [
    {
     "data": {
      "text/plain": [
       "[1, 2, 4, 5]"
      ]
     },
     "execution_count": 77,
     "metadata": {},
     "output_type": "execute_result"
    }
   ],
   "source": [
    "#Ans8. \n",
    "\n",
    "F=[1, 2, 3, 4, 5]\n",
    "F.remove(3)\n",
    "F"
   ]
  },
  {
   "cell_type": "markdown",
   "id": "634370de-be96-4b45-aff9-6924f781726a",
   "metadata": {},
   "source": [
    "Q9. Write a code to access the second element in the list ['a', 'b', 'c', 'd']"
   ]
  },
  {
   "cell_type": "code",
   "execution_count": 104,
   "id": "5c045708-7ddf-40a8-964e-001277b951fe",
   "metadata": {},
   "outputs": [
    {
     "data": {
      "text/plain": [
       "'b'"
      ]
     },
     "execution_count": 104,
     "metadata": {},
     "output_type": "execute_result"
    }
   ],
   "source": [
    "#Ans9. \n",
    "\n",
    "G=['a', 'b', 'c', 'd']\n",
    "G[1]"
   ]
  },
  {
   "cell_type": "markdown",
   "id": "73e2f260-d42b-47a0-963f-7ef40d75801d",
   "metadata": {},
   "source": [
    "Q10. Write a code to reverse the list [10, 20, 30, 40, 50]"
   ]
  },
  {
   "cell_type": "code",
   "execution_count": 149,
   "id": "e6c8b66b-dda3-4b86-b65e-65ccc57c4bef",
   "metadata": {},
   "outputs": [
    {
     "name": "stdout",
     "output_type": "stream",
     "text": [
      "[50, 40, 30, 20, 10]\n"
     ]
    }
   ],
   "source": [
    "#Ans10.\n",
    "\n",
    "F=[10, 20, 30, 40, 50]\n",
    "F.reverse()\n",
    "print(F)"
   ]
  },
  {
   "cell_type": "markdown",
   "id": "574a5081-5153-428d-8d03-b4d91caffd2a",
   "metadata": {},
   "source": [
    "Q11. Write a code to create a tuple with the elements 10, 20, 30 and print it"
   ]
  },
  {
   "cell_type": "code",
   "execution_count": 176,
   "id": "9fa8f882-fcdd-406e-9a5c-0021c08b2ea1",
   "metadata": {},
   "outputs": [
    {
     "name": "stdout",
     "output_type": "stream",
     "text": [
      "(10, 20, 30)\n"
     ]
    }
   ],
   "source": [
    "#Ans11. Tuple ()\n",
    "A=(10,20,30)\n",
    "print(A)"
   ]
  },
  {
   "cell_type": "markdown",
   "id": "27de4ea5-8103-4836-ab12-bad59e7edc35",
   "metadata": {},
   "source": [
    "Q12. Write a code to access the first element of the tuple ('apple', 'banana', 'cherry')"
   ]
  },
  {
   "cell_type": "code",
   "execution_count": 181,
   "id": "1529f0e9-df8d-4e06-b5a5-bd7700905aad",
   "metadata": {},
   "outputs": [
    {
     "data": {
      "text/plain": [
       "'apple'"
      ]
     },
     "execution_count": 181,
     "metadata": {},
     "output_type": "execute_result"
    }
   ],
   "source": [
    "#Ans12.\n",
    "\n",
    "basket=('apple', 'banana', 'cherry')\n",
    "basket[0]\n"
   ]
  },
  {
   "cell_type": "markdown",
   "id": "ad8d79f9-5f63-4948-a48a-2e54c97c5ea6",
   "metadata": {},
   "source": [
    "Q13.  Write a code to count how many times the number 2 appears in the tuple (1, 2, 3, 2, 4, 2)"
   ]
  },
  {
   "cell_type": "code",
   "execution_count": 196,
   "id": "426dcc51-2d39-4d34-8282-69988a52a63c",
   "metadata": {},
   "outputs": [
    {
     "data": {
      "text/plain": [
       "3"
      ]
     },
     "execution_count": 196,
     "metadata": {},
     "output_type": "execute_result"
    }
   ],
   "source": [
    "#Ans13.\n",
    "\n",
    "number=(1, 2, 3, 2, 4, 2)\n",
    "number.count(2)"
   ]
  },
  {
   "cell_type": "markdown",
   "id": "59a9c20d-31da-4a24-a1cf-fc5206a729df",
   "metadata": {},
   "source": [
    "Q14. Write a code to find the index of the element \"cat\" in the tuple ('dog', 'cat', 'rabbit')."
   ]
  },
  {
   "cell_type": "code",
   "execution_count": 205,
   "id": "7d4f7b1f-0a49-437a-8ec7-f145fd3e4aee",
   "metadata": {},
   "outputs": [
    {
     "data": {
      "text/plain": [
       "1"
      ]
     },
     "execution_count": 205,
     "metadata": {},
     "output_type": "execute_result"
    }
   ],
   "source": [
    "#Asn14.\n",
    "\n",
    "pet=('dog', 'cat', 'rabbit')\n",
    "pet.index(\"cat\")"
   ]
  },
  {
   "cell_type": "markdown",
   "id": "55179731-b4d1-4150-83fc-09b2895a62c2",
   "metadata": {},
   "source": [
    "Q15. Write a code to check if the element \"banana\" is in the tuple ('apple', 'orange', 'banana')"
   ]
  },
  {
   "cell_type": "code",
   "execution_count": 259,
   "id": "f6804267-5a2f-4135-a59f-54111e14f9e4",
   "metadata": {},
   "outputs": [
    {
     "name": "stdout",
     "output_type": "stream",
     "text": [
      "Yes\n"
     ]
    }
   ],
   "source": [
    "#Asn15.\n",
    "\n",
    "basket= ('apple', 'orange', 'banana')\n",
    "fruit=\"banana\"\n",
    "if fruit in basket:\n",
    "    print(\"Yes\")\n",
    "else:\n",
    "    print(\"No\")"
   ]
  },
  {
   "cell_type": "markdown",
   "id": "f37ec259-1672-402c-aee2-2ffc0b4109b5",
   "metadata": {},
   "source": [
    "Q16.  Write a code to create a set with the elements 1, 2, 3, 4, 5 and print it."
   ]
  },
  {
   "cell_type": "code",
   "execution_count": 264,
   "id": "d7320b90-bd5c-4214-88ae-8b7d36282135",
   "metadata": {},
   "outputs": [
    {
     "name": "stdout",
     "output_type": "stream",
     "text": [
      "{1, 2, 3, 4, 5}\n"
     ]
    }
   ],
   "source": [
    "#Ans16. \n",
    "\n",
    "Number_of_set={1,2,3,4,5}\n",
    "print(Number_of_set)"
   ]
  },
  {
   "cell_type": "markdown",
   "id": "a962524e-875b-4e15-8452-2d27b34ed016",
   "metadata": {},
   "source": [
    "Q17.  Write a code to add the element 6 to the set {1, 2, 3, 4}."
   ]
  },
  {
   "cell_type": "code",
   "execution_count": 281,
   "id": "deec04e9-ff9a-4a3b-b2ea-be04e81c117d",
   "metadata": {},
   "outputs": [
    {
     "data": {
      "text/plain": [
       "{1, 2, 3, 4, 6}"
      ]
     },
     "execution_count": 281,
     "metadata": {},
     "output_type": "execute_result"
    }
   ],
   "source": [
    "#Ans17.\n",
    "\n",
    "Number_set={1, 2, 3, 4}\n",
    "Number_set.add(6)\n",
    "Number_set"
   ]
  },
  {
   "cell_type": "markdown",
   "id": "d8cca322-4bc7-4ce7-b0c2-9ad85cb6a862",
   "metadata": {},
   "source": [
    "# Q18 to Q24 are duplicate. "
   ]
  },
  {
   "cell_type": "markdown",
   "id": "f00c18ff-aa02-480a-8f26-71ac912b1373",
   "metadata": {},
   "source": [
    " # END"
   ]
  },
  {
   "cell_type": "code",
   "execution_count": null,
   "id": "8e40e3f7-62da-4c50-a164-790bcc04e256",
   "metadata": {},
   "outputs": [],
   "source": []
  }
 ],
 "metadata": {
  "kernelspec": {
   "display_name": "Python 3 (ipykernel)",
   "language": "python",
   "name": "python3"
  },
  "language_info": {
   "codemirror_mode": {
    "name": "ipython",
    "version": 3
   },
   "file_extension": ".py",
   "mimetype": "text/x-python",
   "name": "python",
   "nbconvert_exporter": "python",
   "pygments_lexer": "ipython3",
   "version": "3.12.7"
  }
 },
 "nbformat": 4,
 "nbformat_minor": 5
}
