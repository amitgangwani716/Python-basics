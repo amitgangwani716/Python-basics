{
 "cells": [
  {
   "cell_type": "markdown",
   "id": "afa3ec80-575e-4603-ae9d-1c716f23f8d5",
   "metadata": {},
   "source": [
    "# Python Basics Questions"
   ]
  },
  {
   "cell_type": "markdown",
   "id": "5962d9e2-ab5b-4b81-8e1a-6735bc936c95",
   "metadata": {},
   "source": [
    "Q1. What is Python, and why is it popular?\n",
    "\n",
    "Ans1. Python is computer programming language which is popular and widely used in data science, data analytics, web applications etc., because of its readability, simplicity. Python is very popular because of the following reasons.\n",
    "\n",
    "    * Community: Python has a very large and active programmer community.\n",
    "    * Libraries: Python has huge library for Data science, machine learning and other fields such as Numpy, Scikit learn\n",
    "    * Readability: Python's simple syntx makes its easy to read and use."
   ]
  },
  {
   "cell_type": "markdown",
   "id": "26d95e4b-36fb-4e40-8fc0-22c4af77549e",
   "metadata": {},
   "source": [
    "Q2. What is an interpreter in Python?\n",
    "\n",
    "Ans2. A Python interpreter is a computer program that takes the Python code and converts it into machine code. It translates the code you write into instructions that the computer can understand, executing them line by line."
   ]
  },
  {
   "cell_type": "markdown",
   "id": "dbf37b65-35f1-43ab-b638-f2c2a6918d9f",
   "metadata": {},
   "source": [
    "Q3. What are pre-defined keywords in Python?\n",
    "\n",
    "Ans3. The Pre-defined keywords are use and helps to write a logics in python, that some keywords are, e.g, Import, elif, if , while, break, for, In."
   ]
  },
  {
   "cell_type": "markdown",
   "id": "934f1692-4d10-4edb-b580-d106b3fd7dfe",
   "metadata": {},
   "source": [
    "Q4.Can keywords be used as variable names?\n",
    "\n",
    "Ans4. No, keywords cannot be used as variable names in python."
   ]
  },
  {
   "cell_type": "markdown",
   "id": "6bb90944-0f4c-4fd4-836a-342e6f0a797c",
   "metadata": {},
   "source": [
    "Q5. What is mutability in Python?\n",
    "\n",
    "Ans5. It's refer to the ability to change an object's value after its created, In a simple word we can change the list of values event after its created in python."
   ]
  },
  {
   "cell_type": "markdown",
   "id": "c59de026-7131-4126-b477-18d3f66a1ae5",
   "metadata": {},
   "source": [
    "Q6. Why are lists mutable, but tuples are immutable?\n",
    "\n",
    "Ans6. Tuples and lists are the same in every way except two: tuples use parentheses instead of square brackets, and the items in tuples cannot be modified (but the items in lists can be modified)\n",
    "List use more memory and tuples used less memory due to is immutablity."
   ]
  },
  {
   "cell_type": "markdown",
   "id": "0af51df5-085a-46d0-81ec-7e440a6bfdc7",
   "metadata": {},
   "source": [
    "Q7. What is the difference between “==” and “is” operators in Python?\n",
    "\n",
    "Ans7. In Python, the main difference between the \"==\" and is operators is that == compares the values of two objects, while \"is\" compares the identity of two objects.\n",
    "\n",
    "#comparision between both of them are as follow.\n",
    "\n",
    "The == operator is used in Python when the values of the operands are equal. In such a case, the condition is true.\n",
    "The 'is' operator evaluates to true if the variables on either side of the operator point to the same object. If not, it results in a false evaluation."
   ]
  },
  {
   "cell_type": "markdown",
   "id": "8f0a3654-ae25-4a94-85bb-e3a3f2777b39",
   "metadata": {},
   "source": [
    "Q8. What are logical operators in Python?\n",
    "\n",
    "Ans8. Logical operators in Python are keywords that connect and evaluate multiple conditions in a single expression. They are used to: \n",
    "\n",
    "    *Improve the flexibility and complexity of logical expressions\n",
    "    *Allow programs to make decisions based on multiple factors \n",
    "    *Verify multiple conditions simultaneously \n",
    "\n",
    "#The three main logical operators in Python are:\n",
    "\n",
    "    And: Returns True if both operands are True, and False otherwise\n",
    "    Or: Returns True if at least one of the operands is True, and False otherwise\n",
    "    Not: Reverses the result, so if something is True, not turns it False"
   ]
  },
  {
   "cell_type": "markdown",
   "id": "9c98f602-fe4b-41b4-ad90-cfde1498f0f4",
   "metadata": {},
   "source": [
    "Q9. What is type casting in Python?\n",
    "\n",
    "Ans9. Type casting in Python is the process of converting a variable's data type to another data type. It's also known as type conversion.\n",
    "\n",
    "# Example\n",
    "    x = int(1)   # x will be 1\n",
    "    y = int(2.8) # y will be 2\n",
    "\n",
    "    x = float(1)     # x will be 1.0\n",
    "    y = float(2.8)   # y will be 2.8\n",
    "    "
   ]
  },
  {
   "cell_type": "markdown",
   "id": "7e386124-75df-4291-9e81-ecf153dbebff",
   "metadata": {},
   "source": [
    "Q10. What is the difference between implicit and explicit type casting?\n",
    "\n",
    "Ans10.  Implicit type casting happens automatically, while explicit type casting requires manual intervention\n",
    "\n",
    "    #In implicit type casting, the programming language automatically converts data from one type to another if needed. For example, if you have an integer variable and you try to assign it to a float variable, the programming language will automatically convert the integer to a float without you having to do anything.\n",
    "\n",
    "    #Explicit type casting, also known as type conversion or type coercion, occurs when the programmer explicitly converts a value from one data type to another. Unlike implicit type casting, explicit type casting requires the programmer to specify the desired data type conversion."
   ]
  },
  {
   "cell_type": "markdown",
   "id": "fcaec38e-259a-47ed-8d2c-d7ec70fc9b7c",
   "metadata": {},
   "source": [
    "Q11. What is the purpose of conditional statements in Python?\\\n",
    "\n",
    "Ans11. The purpose of conditional statements in Python is to control the flow of a program by making decisions based on certain conditions. Conditional statements are also known as decision making statements. \n",
    "Conditional statements can make code more efficient and easier to read by avoiding long and complicated blocks of code. For example, you can use a conditional statement to print a message only if a certain condition is met."
   ]
  },
  {
   "cell_type": "markdown",
   "id": "6ffeaf6e-b701-4a88-894b-feefecdddd4b",
   "metadata": {},
   "source": [
    "Q12. How does the elif statement work?\n",
    "\n",
    "Ans12. In Python, elif is short for \"else if\" and is used when the first if statement isn't true, but you want to check for another condition. Meaning, if statements pair up with elif and else statements to perform a series of checks.\n",
    "\n",
    "# Example\n",
    "    Number = 35\n",
    "    if number >25:\n",
    "        Print(\"Right\"):\n",
    "    elif number<25:\n",
    "        Print(\"Not Right\"):\n",
    "    else:\n",
    "        Print(\"Average\")"
   ]
  },
  {
   "cell_type": "markdown",
   "id": "12d89773-d893-46b6-8064-4bb97f3c73df",
   "metadata": {},
   "source": [
    "Q13. What is the difference between for and while loops?\n",
    "\n",
    "Ans13. For and While is a part of Loop statement and it will use to create a conditional logics you used to run/repeat in a block of code.The main difference between a for loop and a while loop is that a for loop is used when you know the number of iterations in advance, while a while loop is used when you don't."
   ]
  },
  {
   "cell_type": "markdown",
   "id": "2ed13bdd-4413-4856-b5fe-517848765460",
   "metadata": {},
   "source": [
    "Q14. Describe a scenario where a while loop is more suitable than a for loop."
   ]
  },
  {
   "cell_type": "code",
   "execution_count": 18,
   "id": "eba33279-7fae-455d-b4ef-af724769c55a",
   "metadata": {},
   "outputs": [
    {
     "name": "stdout",
     "output_type": "stream",
     "text": [
      "5\n",
      "4\n",
      "3\n",
      "2\n",
      "1\n",
      "End of loop\n"
     ]
    }
   ],
   "source": [
    "#Ans14. In contrast to a 'for' loop, which is generally used when the number of iterations is known beforehand, a 'while' loop is ideal for situations where the number of iterations is not predetermined and depends on some dynamic condition\n",
    "\n",
    "# Example\n",
    "\n",
    "count=5\n",
    "while count>0:\n",
    "    print(count)\n",
    "    count=count-1\n",
    "else:\n",
    "    print(\"End of loop\")\n",
    "#In this case I found while loop is better than for loop because if i want to achieve the same in for loop i have to assign the value of counter to another variable."
   ]
  },
  {
   "cell_type": "markdown",
   "id": "689ccb3c-4b76-4a5f-a6c1-1c502864611e",
   "metadata": {},
   "source": [
    "# Practical Questions"
   ]
  },
  {
   "cell_type": "markdown",
   "id": "8beb90d1-9c54-4940-92ba-09bfe2c9ddcf",
   "metadata": {},
   "source": [
    "Q1. Write a Python program to print \"Hello, World!"
   ]
  },
  {
   "cell_type": "code",
   "execution_count": 31,
   "id": "2d0ecf85-649a-45eb-a54a-67ac97b60a1c",
   "metadata": {},
   "outputs": [
    {
     "name": "stdout",
     "output_type": "stream",
     "text": [
      "Hello, World!\n"
     ]
    }
   ],
   "source": [
    "#Ans1.\n",
    "print(\"Hello, World!\")"
   ]
  },
  {
   "cell_type": "markdown",
   "id": "c17013df-54fa-4dfd-a6b7-47186ba9a567",
   "metadata": {},
   "source": [
    "Q2. Write a Python program that displays your name and age."
   ]
  },
  {
   "cell_type": "code",
   "execution_count": 36,
   "id": "b3220830-6c98-4d63-9bde-da5af4a6fa9c",
   "metadata": {},
   "outputs": [
    {
     "name": "stdin",
     "output_type": "stream",
     "text": [
      "Enter your Age: 28\n",
      "Enter your name: Amit Gangwani\n"
     ]
    },
    {
     "name": "stdout",
     "output_type": "stream",
     "text": [
      "Hi, my name is Amit Gangwani, and I am 28 year old\n"
     ]
    }
   ],
   "source": [
    "#Ans2.\n",
    "age=input(\"Enter your Age:\")\n",
    "name= input(\"Enter your name:\")\n",
    "print(\"Hi, my name is \"+name+\", and I am \"+age+\" year old\")"
   ]
  },
  {
   "cell_type": "markdown",
   "id": "3145ac47-f815-48ee-9010-e6c38057b2af",
   "metadata": {},
   "source": [
    "Q3.Write code to print all the pre-defined keywords in Python using the keyword library"
   ]
  },
  {
   "cell_type": "code",
   "execution_count": 39,
   "id": "e6f77079-a883-40af-b92f-983f3c7c49ca",
   "metadata": {},
   "outputs": [
    {
     "name": "stdout",
     "output_type": "stream",
     "text": [
      "\n",
      "Here is a list of the Python keywords.  Enter any keyword to get more help.\n",
      "\n",
      "False               class               from                or\n",
      "None                continue            global              pass\n",
      "True                def                 if                  raise\n",
      "and                 del                 import              return\n",
      "as                  elif                in                  try\n",
      "assert              else                is                  while\n",
      "async               except              lambda              with\n",
      "await               finally             nonlocal            yield\n",
      "break               for                 not                 \n",
      "\n"
     ]
    }
   ],
   "source": [
    "help(\"keywords\")"
   ]
  },
  {
   "cell_type": "markdown",
   "id": "a7f835c3-ab2b-46fa-8b51-5a47765e3ece",
   "metadata": {},
   "source": [
    "Q4. Write a program that checks if a given word is a Python keyword"
   ]
  },
  {
   "cell_type": "code",
   "execution_count": null,
   "id": "cacfe56a-149c-4c66-bc30-c23c15dac37a",
   "metadata": {},
   "outputs": [],
   "source": [
    "#Ans4. import keyword\n",
    "word= input(\"Enter a  word:\")\n",
    "if keyword.iskeyword(word):\n",
    "    print(f\"'{word}' is a paython keyword.\")\n",
    "else:\n",
    "    print(f\"'{word}' is not a paython keyword.\")"
   ]
  },
  {
   "cell_type": "markdown",
   "id": "f5cbb58b-497a-4fbc-b26e-fe404798eaed",
   "metadata": {},
   "source": [
    "Q5. Create a list and tuple in Python, and demonstrate how attempting to change an element works differently\n",
    "for each."
   ]
  },
  {
   "cell_type": "code",
   "execution_count": 103,
   "id": "85e2b98c-bf3e-4d9b-bdcb-408ecc78f217",
   "metadata": {},
   "outputs": [],
   "source": [
    "#Ans5. \n",
    "\n",
    "#List are mutable and Tuple are immutable. We use () in tuple and [] in list to define them.\n",
    "\n",
    "A = [1,3.4,55,100,\"Amit\",\"python\"]\n",
    "b = (1,3.4,55,100,\"Amit\",\"python\")"
   ]
  },
  {
   "cell_type": "code",
   "execution_count": 129,
   "id": "e28ed7a4-62e5-4f84-a198-566c0191b9e8",
   "metadata": {},
   "outputs": [
    {
     "ename": "TypeError",
     "evalue": "'tuple' object does not support item assignment",
     "output_type": "error",
     "traceback": [
      "\u001b[1;31m---------------------------------------------------------------------------\u001b[0m",
      "\u001b[1;31mTypeError\u001b[0m                                 Traceback (most recent call last)",
      "Cell \u001b[1;32mIn[129], line 2\u001b[0m\n\u001b[0;32m      1\u001b[0m \u001b[38;5;66;03m#Ans5.\u001b[39;00m\n\u001b[1;32m----> 2\u001b[0m b[\u001b[38;5;241m0\u001b[39m] \u001b[38;5;241m=\u001b[39m \u001b[38;5;241m500\u001b[39m\n",
      "\u001b[1;31mTypeError\u001b[0m: 'tuple' object does not support item assignment"
     ]
    }
   ],
   "source": [
    "#Ans5.\n",
    "b[0] = 500 #i tried to change the value in tuple but its give me an below error because Tupe is Immutable"
   ]
  },
  {
   "cell_type": "code",
   "execution_count": 131,
   "id": "30157644-d3fb-44cc-b3bc-e0c9fb7f9207",
   "metadata": {},
   "outputs": [],
   "source": [
    "#Ans5.\n",
    "A[0] = 500 #List are mutable so i change the \"1\" to 500 and you can see below the number has been changed now."
   ]
  },
  {
   "cell_type": "code",
   "execution_count": 133,
   "id": "e36ea9b4-d5c2-44ee-a29d-c18f14ab3743",
   "metadata": {},
   "outputs": [
    {
     "data": {
      "text/plain": [
       "list[[500, 3.4, 55, 100, 'Amit', 'python']]"
      ]
     },
     "execution_count": 133,
     "metadata": {},
     "output_type": "execute_result"
    }
   ],
   "source": [
    "#Ans5.\n",
    "list[A]"
   ]
  },
  {
   "cell_type": "markdown",
   "id": "5a0e246d-edc4-4e76-ab69-3793480206e6",
   "metadata": {},
   "source": [
    "Q6. Write a function to demonstrate the behavior of mutable and immutable arguments"
   ]
  },
  {
   "cell_type": "code",
   "execution_count": 136,
   "id": "9eaea68d-3fe6-4512-905d-39a30f143734",
   "metadata": {},
   "outputs": [],
   "source": [
    "#Ans6.\n",
    "\n",
    "#Mutablity\n",
    "A = [1,3.4,55,100,\"Amit\",\"python\"]"
   ]
  },
  {
   "cell_type": "code",
   "execution_count": 140,
   "id": "10378d46-fe09-4c01-9b41-94691edf66cf",
   "metadata": {},
   "outputs": [],
   "source": [
    "A[4] = \"sumit\""
   ]
  },
  {
   "cell_type": "code",
   "execution_count": 142,
   "id": "75968214-7c4e-4c8c-b427-91d9e82c66ed",
   "metadata": {},
   "outputs": [
    {
     "data": {
      "text/plain": [
       "list[[1, 3.4, 55, 100, 'sumit', 'python']]"
      ]
     },
     "execution_count": 142,
     "metadata": {},
     "output_type": "execute_result"
    }
   ],
   "source": [
    "list[A]"
   ]
  },
  {
   "cell_type": "code",
   "execution_count": 150,
   "id": "71089f4b-eb7f-4f9c-b0e3-8b3edc9a3dcf",
   "metadata": {},
   "outputs": [
    {
     "data": {
      "text/plain": [
       "'Amit'"
      ]
     },
     "execution_count": 150,
     "metadata": {},
     "output_type": "execute_result"
    }
   ],
   "source": [
    "#Ans6. \n",
    "#Immutability\n",
    "A = \"Amit\"\n",
    "A"
   ]
  },
  {
   "cell_type": "code",
   "execution_count": 152,
   "id": "ff196203-c8f8-4859-9dbc-06d6d8aa1b3b",
   "metadata": {},
   "outputs": [
    {
     "data": {
      "text/plain": [
       "'A'"
      ]
     },
     "execution_count": 152,
     "metadata": {},
     "output_type": "execute_result"
    }
   ],
   "source": [
    "A[0]"
   ]
  },
  {
   "cell_type": "code",
   "execution_count": 154,
   "id": "da5b2779-285b-4a7e-b951-06b4a5f61281",
   "metadata": {},
   "outputs": [
    {
     "ename": "TypeError",
     "evalue": "'str' object does not support item assignment",
     "output_type": "error",
     "traceback": [
      "\u001b[1;31m---------------------------------------------------------------------------\u001b[0m",
      "\u001b[1;31mTypeError\u001b[0m                                 Traceback (most recent call last)",
      "Cell \u001b[1;32mIn[154], line 1\u001b[0m\n\u001b[1;32m----> 1\u001b[0m A[\u001b[38;5;241m0\u001b[39m] \u001b[38;5;241m=\u001b[39m \u001b[38;5;124m\"\u001b[39m\u001b[38;5;124ms\u001b[39m\u001b[38;5;124m\"\u001b[39m\n",
      "\u001b[1;31mTypeError\u001b[0m: 'str' object does not support item assignment"
     ]
    }
   ],
   "source": [
    "A[0] = \"s\" #This is a immutibility concept."
   ]
  },
  {
   "cell_type": "markdown",
   "id": "19a4381a-200d-484e-8771-fca75dc88b5b",
   "metadata": {},
   "source": [
    "Q7. Write a function to demonstrate the behavior of mutable and immutable arguments\n",
    "\n",
    "Ans7. Duplicate question of Q6."
   ]
  },
  {
   "cell_type": "markdown",
   "id": "601f0678-af35-426b-aef2-2980b8c09ae9",
   "metadata": {},
   "source": [
    "Q8. Write a program to demonstrate the use of logical operators."
   ]
  },
  {
   "cell_type": "code",
   "execution_count": 160,
   "id": "69ad9357-2c4a-4963-bfc2-a2e16402ff18",
   "metadata": {},
   "outputs": [
    {
     "name": "stdout",
     "output_type": "stream",
     "text": [
      "Both a and c are True (AND condition).\n",
      "Either b or c is True (OR condition).\n",
      "b is False (NOT condition).\n"
     ]
    }
   ],
   "source": [
    "#Ans8.\n",
    "# Example: Logical Operators (AND, OR, NOT) with generic variables\n",
    "a, b, c = True, False, True\n",
    "\n",
    "# AND: Both conditions must be True\n",
    "if a and c:\n",
    "    print(\"Both a and c are True (AND condition).\")\n",
    "\n",
    "# OR: At least one condition must be True\n",
    "if b or c:\n",
    "    print(\"Either b or c is True (OR condition).\")\n",
    "\n",
    "# NOT: Reverses the condition\n",
    "if not b:\n",
    "    print(\"b is False (NOT condition).\")"
   ]
  },
  {
   "cell_type": "markdown",
   "id": "dc2811cb-33d1-4a08-af02-15a66bbdc14c",
   "metadata": {},
   "source": [
    "Q9. Write a Python program to convert user input from string to integer, float, and boolean types"
   ]
  },
  {
   "cell_type": "code",
   "execution_count": 215,
   "id": "7877dc5b-f2bf-4778-b6a3-b2b4714cf904",
   "metadata": {},
   "outputs": [
    {
     "name": "stdout",
     "output_type": "stream",
     "text": [
      "42\n"
     ]
    }
   ],
   "source": [
    "#Ans9.\n",
    "\n",
    "#String to Integer\n",
    "s = \"42\"\n",
    "num = int(s)\n",
    "print(num)"
   ]
  },
  {
   "cell_type": "code",
   "execution_count": 221,
   "id": "e1b60676-558f-4cc1-9f6e-2d55aa6af044",
   "metadata": {},
   "outputs": [
    {
     "name": "stdout",
     "output_type": "stream",
     "text": [
      "3\n"
     ]
    }
   ],
   "source": [
    "#Ans9. \n",
    "\n",
    "#Integer to Float\n",
    "A= 3.5\n",
    "make = int(A)\n",
    "print(make)"
   ]
  },
  {
   "cell_type": "code",
   "execution_count": 223,
   "id": "641a928d-93af-4043-bae8-9409de4d45b8",
   "metadata": {},
   "outputs": [
    {
     "name": "stdout",
     "output_type": "stream",
     "text": [
      "False\n"
     ]
    }
   ],
   "source": [
    "#Ans9.\n",
    "\n",
    "#Float to Boolean\n",
    "\n",
    "my_float = 0.0\n",
    "my_boolean = bool(my_float)\n",
    "print(my_boolean)"
   ]
  },
  {
   "cell_type": "markdown",
   "id": "d55359db-94dd-4fb3-afc2-63e2087202c4",
   "metadata": {},
   "source": [
    "Q10.Write code to demonstrate type casting with list elements"
   ]
  },
  {
   "cell_type": "code",
   "execution_count": 226,
   "id": "50fe2551-b186-4bbf-ba72-1bd44a0a71fd",
   "metadata": {},
   "outputs": [],
   "source": [
    "#Ans10.\n",
    "\n",
    "A = [1,3.4,55,100,\"Amit\",\"python\"]"
   ]
  },
  {
   "cell_type": "code",
   "execution_count": 228,
   "id": "fbabd3b6-abc4-4d21-8e0a-a3c5bf4889d9",
   "metadata": {},
   "outputs": [],
   "source": [
    "A[4] = \"sumit\""
   ]
  },
  {
   "cell_type": "code",
   "execution_count": 230,
   "id": "b27fde81-3c63-461a-a411-076d9e719929",
   "metadata": {},
   "outputs": [
    {
     "data": {
      "text/plain": [
       "[1, 3.4, 55, 100, 'sumit', 'python']"
      ]
     },
     "execution_count": 230,
     "metadata": {},
     "output_type": "execute_result"
    }
   ],
   "source": [
    "list(A)"
   ]
  },
  {
   "cell_type": "markdown",
   "id": "02f659b1-e27e-459d-8106-5b4d9334bf09",
   "metadata": {},
   "source": [
    "Q11.Write a program that checks if a number is positive, negative, or zero"
   ]
  },
  {
   "cell_type": "code",
   "execution_count": 1,
   "id": "c3c8d03e-f09c-4e6d-b91a-4986adc1d425",
   "metadata": {},
   "outputs": [
    {
     "name": "stdin",
     "output_type": "stream",
     "text": [
      "Input a number:  1\n"
     ]
    },
    {
     "name": "stdout",
     "output_type": "stream",
     "text": [
      "Number is Positive.\n"
     ]
    }
   ],
   "source": [
    "# Ans 11.\n",
    "\n",
    "n = float(input('Input a number: '))\n",
    "print('Number is Positive.' if n > 0 else 'It is Zero!' if n == 0 else 'Number is Negative.')\n"
   ]
  },
  {
   "cell_type": "markdown",
   "id": "48a866a7-7b72-4d4c-bb56-a7b4e8c2fdd3",
   "metadata": {},
   "source": [
    "Q12. Write a for loop to print numbers from 1 to 100"
   ]
  },
  {
   "cell_type": "code",
   "execution_count": 7,
   "id": "4f25e218-f1ac-4816-adaa-e961f112bc83",
   "metadata": {},
   "outputs": [
    {
     "name": "stdout",
     "output_type": "stream",
     "text": [
      "1\n",
      "2\n",
      "3\n",
      "4\n",
      "5\n",
      "6\n",
      "7\n",
      "8\n",
      "9\n",
      "10\n",
      "11\n",
      "12\n",
      "13\n",
      "14\n",
      "15\n",
      "16\n",
      "17\n",
      "18\n",
      "19\n",
      "20\n",
      "21\n",
      "22\n",
      "23\n",
      "24\n",
      "25\n",
      "26\n",
      "27\n",
      "28\n",
      "29\n",
      "30\n",
      "31\n",
      "32\n",
      "33\n",
      "34\n",
      "35\n",
      "36\n",
      "37\n",
      "38\n",
      "39\n",
      "40\n",
      "41\n",
      "42\n",
      "43\n",
      "44\n",
      "45\n",
      "46\n",
      "47\n",
      "48\n",
      "49\n",
      "50\n",
      "51\n",
      "52\n",
      "53\n",
      "54\n",
      "55\n",
      "56\n",
      "57\n",
      "58\n",
      "59\n",
      "60\n",
      "61\n",
      "62\n",
      "63\n",
      "64\n",
      "65\n",
      "66\n",
      "67\n",
      "68\n",
      "69\n",
      "70\n",
      "71\n",
      "72\n",
      "73\n",
      "74\n",
      "75\n",
      "76\n",
      "77\n",
      "78\n",
      "79\n",
      "80\n",
      "81\n",
      "82\n",
      "83\n",
      "84\n",
      "85\n",
      "86\n",
      "87\n",
      "88\n",
      "89\n",
      "90\n",
      "91\n",
      "92\n",
      "93\n",
      "94\n",
      "95\n",
      "96\n",
      "97\n",
      "98\n",
      "99\n",
      "100\n"
     ]
    }
   ],
   "source": [
    "#Ans. 12\n",
    "\n",
    "a=101\n",
    "b=1\n",
    "while b<a:\n",
    "    print(b)\n",
    "    b=b+1"
   ]
  },
  {
   "cell_type": "markdown",
   "id": "9a50096f-b4a8-441d-bbca-e6deded12b42",
   "metadata": {},
   "source": [
    "Q13. Write a Python program to find the sum of all even numbers between 1 and 500"
   ]
  },
  {
   "cell_type": "code",
   "execution_count": 6,
   "id": "bc66813d-17f7-462f-9b58-c5a9a50de9ce",
   "metadata": {},
   "outputs": [
    {
     "name": "stdout",
     "output_type": "stream",
     "text": [
      "2\n",
      "4\n",
      "6\n",
      "8\n",
      "10\n",
      "12\n",
      "14\n",
      "16\n",
      "18\n",
      "20\n",
      "22\n",
      "24\n",
      "26\n",
      "28\n",
      "30\n",
      "32\n",
      "34\n",
      "36\n",
      "38\n",
      "40\n",
      "42\n",
      "44\n",
      "46\n",
      "48\n",
      "50\n",
      "52\n",
      "54\n",
      "56\n",
      "58\n",
      "60\n",
      "62\n",
      "64\n",
      "66\n",
      "68\n",
      "70\n",
      "72\n",
      "74\n",
      "76\n",
      "78\n",
      "80\n",
      "82\n",
      "84\n",
      "86\n",
      "88\n",
      "90\n",
      "92\n",
      "94\n",
      "96\n",
      "98\n",
      "100\n",
      "102\n",
      "104\n",
      "106\n",
      "108\n",
      "110\n",
      "112\n",
      "114\n",
      "116\n",
      "118\n",
      "120\n",
      "122\n",
      "124\n",
      "126\n",
      "128\n",
      "130\n",
      "132\n",
      "134\n",
      "136\n",
      "138\n",
      "140\n",
      "142\n",
      "144\n",
      "146\n",
      "148\n",
      "150\n",
      "152\n",
      "154\n",
      "156\n",
      "158\n",
      "160\n",
      "162\n",
      "164\n",
      "166\n",
      "168\n",
      "170\n",
      "172\n",
      "174\n",
      "176\n",
      "178\n",
      "180\n",
      "182\n",
      "184\n",
      "186\n",
      "188\n",
      "190\n",
      "192\n",
      "194\n",
      "196\n",
      "198\n",
      "200\n",
      "202\n",
      "204\n",
      "206\n",
      "208\n",
      "210\n",
      "212\n",
      "214\n",
      "216\n",
      "218\n",
      "220\n",
      "222\n",
      "224\n",
      "226\n",
      "228\n",
      "230\n",
      "232\n",
      "234\n",
      "236\n",
      "238\n",
      "240\n",
      "242\n",
      "244\n",
      "246\n",
      "248\n",
      "250\n",
      "252\n",
      "254\n",
      "256\n",
      "258\n",
      "260\n",
      "262\n",
      "264\n",
      "266\n",
      "268\n",
      "270\n",
      "272\n",
      "274\n",
      "276\n",
      "278\n",
      "280\n",
      "282\n",
      "284\n",
      "286\n",
      "288\n",
      "290\n",
      "292\n",
      "294\n",
      "296\n",
      "298\n",
      "300\n",
      "302\n",
      "304\n",
      "306\n",
      "308\n",
      "310\n",
      "312\n",
      "314\n",
      "316\n",
      "318\n",
      "320\n",
      "322\n",
      "324\n",
      "326\n",
      "328\n",
      "330\n",
      "332\n",
      "334\n",
      "336\n",
      "338\n",
      "340\n",
      "342\n",
      "344\n",
      "346\n",
      "348\n",
      "350\n",
      "352\n",
      "354\n",
      "356\n",
      "358\n",
      "360\n",
      "362\n",
      "364\n",
      "366\n",
      "368\n",
      "370\n",
      "372\n",
      "374\n",
      "376\n",
      "378\n",
      "380\n",
      "382\n",
      "384\n",
      "386\n",
      "388\n",
      "390\n",
      "392\n",
      "394\n",
      "396\n",
      "398\n",
      "400\n",
      "402\n",
      "404\n",
      "406\n",
      "408\n",
      "410\n",
      "412\n",
      "414\n",
      "416\n",
      "418\n",
      "420\n",
      "422\n",
      "424\n",
      "426\n",
      "428\n",
      "430\n",
      "432\n",
      "434\n",
      "436\n",
      "438\n",
      "440\n",
      "442\n",
      "444\n",
      "446\n",
      "448\n",
      "450\n",
      "452\n",
      "454\n",
      "456\n",
      "458\n",
      "460\n",
      "462\n",
      "464\n",
      "466\n",
      "468\n",
      "470\n",
      "472\n",
      "474\n",
      "476\n",
      "478\n",
      "480\n",
      "482\n",
      "484\n",
      "486\n",
      "488\n",
      "490\n",
      "492\n",
      "494\n",
      "496\n",
      "498\n",
      "500\n"
     ]
    }
   ],
   "source": [
    "#Ans13.\n",
    "\n",
    "start = 1\n",
    "end = 500\n",
    "\n",
    "# Using a for loop to print even numbers\n",
    "for i in range(start, end + 1):\n",
    "    if i % 2 == 0:\n",
    "        print(i)"
   ]
  },
  {
   "cell_type": "markdown",
   "id": "45c93270-f410-4396-825a-40832c7465e1",
   "metadata": {},
   "source": [
    "Q14. Write a program to reverse a string using a while loop."
   ]
  },
  {
   "cell_type": "code",
   "execution_count": 18,
   "id": "8c4791a5-ed01-4d6b-89df-f0d90d89639d",
   "metadata": {},
   "outputs": [
    {
     "name": "stdin",
     "output_type": "stream",
     "text": [
      "Enter the name:  Amit Gangwani\n"
     ]
    },
    {
     "name": "stdout",
     "output_type": "stream",
     "text": [
      "inawgnaG timA"
     ]
    }
   ],
   "source": [
    "#Ans14.\n",
    "\n",
    "name= str((input(\"Enter the name: \")))\n",
    "i = len(name) - 1\n",
    "\n",
    "while i >= 0:\n",
    "    print(name[i], end = '')\n",
    "    i = i - 1"
   ]
  },
  {
   "cell_type": "markdown",
   "id": "b4077965-ebd4-46ee-a664-210924e950c0",
   "metadata": {},
   "source": [
    "Q15. Write a Python program to calculate the factorial of a number provided by the user using a while loop."
   ]
  },
  {
   "cell_type": "code",
   "execution_count": 22,
   "id": "9c7c7260-c8a9-45f8-a10d-a073a121544a",
   "metadata": {},
   "outputs": [
    {
     "name": "stdin",
     "output_type": "stream",
     "text": [
      "Enter any number:  1\n"
     ]
    },
    {
     "name": "stdout",
     "output_type": "stream",
     "text": [
      "Factorial is 1\n"
     ]
    }
   ],
   "source": [
    "#Ans15.\n",
    "\n",
    "# accept input number from user\n",
    "n = int(input(\"Enter any number: \"))\n",
    "\n",
    "# logic to calculate the factorial of a number\n",
    "f = 1\n",
    "while n >= 1:\n",
    "    f *= n\n",
    "    n -= 1\n",
    "\n",
    "# print output\n",
    "print(\"Factorial is\", f)"
   ]
  },
  {
   "cell_type": "markdown",
   "id": "069cf8c6-aab0-408c-8b41-7c9a29abeb7f",
   "metadata": {},
   "source": [
    "# The End"
   ]
  },
  {
   "cell_type": "code",
   "execution_count": null,
   "id": "73ad611b-7cfc-4a55-bdd6-2ac16b9e83a9",
   "metadata": {},
   "outputs": [],
   "source": []
  }
 ],
 "metadata": {
  "kernelspec": {
   "display_name": "Python 3 (ipykernel)",
   "language": "python",
   "name": "python3"
  },
  "language_info": {
   "codemirror_mode": {
    "name": "ipython",
    "version": 3
   },
   "file_extension": ".py",
   "mimetype": "text/x-python",
   "name": "python",
   "nbconvert_exporter": "python",
   "pygments_lexer": "ipython3",
   "version": "3.12.7"
  }
 },
 "nbformat": 4,
 "nbformat_minor": 5
}
